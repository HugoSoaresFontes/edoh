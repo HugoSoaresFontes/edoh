{
 "cells": [
  {
   "cell_type": "markdown",
   "metadata": {},
   "source": [
    "<h1 style=\"text-align:center;\">Resolução numérica de Equações Diferenciais de Primeira Ordem e Não Homogêneas</h1>"
   ]
  },
  {
   "cell_type": "markdown",
   "metadata": {},
   "source": [
    "<h3>Método de Euler</h3>\n",
    "\n",
    "<p style=\"text-align: justify; text-indent:4em\">O método de Euler é descrito pela equação abaixo. Ele é conhecido como método da tangente e pode ser obtido como parte do polinômio de Taylor de\n",
    "ordem 1, para aproximar y(t_n), em torno de t_n−1.</p>\n",
    "\n",
    "\\begin{align*} \n",
    "    y_{n+1} = y_n + hf(x_n, y_n) \n",
    "\\end{align*} \n",
    "<center style=\"margin-top:6px;\">Equação - Método de Euler</center>\n",
    "<br>"
   ]
  },
  {
   "cell_type": "code",
   "execution_count": 59,
   "metadata": {
    "collapsed": false
   },
   "outputs": [],
   "source": [
    "# Euler = Range-Kutta de primeira ordem\n",
    "\n",
    "def calcular_euler(f, x, y, h):\n",
    "    return y + h*f(x, y)\n",
    "\n",
    "\n",
    "def calcular_derivada_euler(equacao, x0, y0, h, n):\n",
    "    derivada_euler = [0]*n\n",
    "    tempo = [0]*n\n",
    "    derivada_euler[0] = y0\n",
    "    tempo[0] = x0\n",
    "    \n",
    "    aux = x0\n",
    "    for i in range(n-1):\n",
    "        derivada_euler[i+1] = calcular_euler(equacao, tempo[i], derivada_euler[i], h)\n",
    "        aux += h\n",
    "        tempo[i+1] = aux \n",
    "    \n",
    "    return derivada_euler, tempo "
   ]
  },
  {
   "cell_type": "markdown",
   "metadata": {},
   "source": [
    "<p style=\"text-align: justify; text-indent:4em\"> O método de Euler Melhorado é descrito pela equação abaixo</p>\n",
    "<br>\n",
    "\n",
    "\\begin{align*}\n",
    "f(x) = y_{n} + h\\frac{ f(x_{n},y_{n}) + f(x_{n+1},y^*_{n+1}) } {2}\\ \n",
    "\\end{align*}\n",
    "<center style=\"margin-top:6px;\">Equação - Método de Euler Melhorado</center>\n",
    "\n",
    "<p style=\"text-align: justify; text-indent:4em\"> Onde tem-se que:</p>\n",
    "\n",
    "\\begin{align*} \n",
    "    y^*_{n+1} = y_n + hf(x_n, y_n) \n",
    "\\end{align*} \n",
    "<center style=\"margin-top:6px;\">Equação - Fator de correção</center>\n",
    "<br>"
   ]
  },
  {
   "cell_type": "code",
   "execution_count": 60,
   "metadata": {
    "collapsed": false
   },
   "outputs": [],
   "source": [
    "# Método de euler melhorado\n",
    "def  calcular_eulerMelhorado(f, x, y, x_pos, h):\n",
    "    y_pos = y + h*f(x,y)\n",
    "    return  y + h*(( f(x, y) + f(x_pos, y_pos)) /2)\n",
    "\n",
    "def calcular_derivada_euler_melhorado(equacao, x0, y0, h, n):\n",
    "    #Setup inicial     \n",
    "    derivada = [0]*n\n",
    "    tempo = [0]*n\n",
    "    derivada[0] = y0\n",
    "    tempo[0] = x0\n",
    "    \n",
    "    aux = x0\n",
    "    for i in range(n-1):\n",
    "        aux += h\n",
    "        tempo[i+1] = aux \n",
    "        derivada[i+1] = calcular_eulerMelhorado(equacao, tempo[i], derivada[i], tempo[i+1], h)\n",
    "        \n",
    "    \n",
    "    return derivada, tempo "
   ]
  },
  {
   "cell_type": "markdown",
   "metadata": {},
   "source": [
    "<p style=\"text-align: justify; text-indent:4em\"> Por sua vez podemos descrever o método de Runge-Kutta de 3ª ordem como mostrado abaixo:</p>\n",
    "\n",
    "\\begin{align*} \n",
    "\\left(\n",
    "\\begin{array}{c}\n",
    "y_{n+1} = y_n + \\frac{h}{6}(k_1 + 4k_2 + k_3)\\\\\n",
    "k_1 = f(x_n, y_n)\\\\\n",
    "k_2 = f(x_n + \\frac{h}{2},  y_n + \\frac{h}{2}k_1)\\\\\n",
    "k_3 = f(x_n + h,  y_n + 2hk_2 - hk_1)\\\\\n",
    "\\end{array}\n",
    "\\right)\n",
    "\\end{align*} \n",
    "\n",
    "<center style=\"margin-top:6px;\">Equação - Range-Kutta de ordem 3</center>\n",
    "<br>"
   ]
  },
  {
   "cell_type": "code",
   "execution_count": 61,
   "metadata": {
    "collapsed": false
   },
   "outputs": [],
   "source": [
    "# Método de range-kutta 3ª ordem\n",
    "def  calcular_rk3(f, x, y, h):\n",
    "        k1 = f(x, y)\n",
    "        k2 = f(x+(h/2), (y+(h*k1/2)))\n",
    "        k3 = f(x+h, y+2*h*k2 - h*k1)\n",
    "        return y + h/6*(k1 + 4*k2 + k3)\n",
    "\n",
    "def calcular_derivada_rk3(equacao, x0, y0, h, n):\n",
    "    #Setup inicial     \n",
    "    derivada = [0]*n\n",
    "    tempo = [0]*n\n",
    "    derivada[0] = y0\n",
    "    tempo[0] = x0\n",
    "    \n",
    "    aux = x0\n",
    "    for i in range(n-1):\n",
    "        aux += h\n",
    "        tempo[i+1] = aux \n",
    "        derivada[i+1] = calcular_rk3(equacao, tempo[i], derivada[i], h)\n",
    "        \n",
    "    \n",
    "    return derivada, tempo \n"
   ]
  },
  {
   "cell_type": "markdown",
   "metadata": {},
   "source": [
    "<p style=\"text-align: justify; text-indent:4em\"> Já o método de Runge-Kutta de 4ª ordem é descrito  seguir:</p>\n",
    "\n",
    "\\begin{align*} \n",
    "\\left(\n",
    "\\begin{array}{c}\n",
    "y_{n+1} = y_n + \\frac{1}{6}(k_1 + 2k_2 + 2k_3 + k_4)\\\\\n",
    "k_1 = hf(x_n, y_n)\\\\\n",
    "k_2 = hf(x_n + \\frac{h}{2},  y_n + \\frac{k_1}{2})\\\\\n",
    "k_3 = hf(x_n + \\frac{h}{2},  y_n + \\frac{k_2}{2})\\\\\n",
    "k_4 = hf(x_n + h,  y_n + k_3)\\\\\n",
    "\\end{array}\n",
    "\\right)\n",
    "\\end{align*} \n",
    "\n",
    "<center style=\"margin-top:6px;\">Equação - Range-Kutta de ordem 4</center>\n",
    "<br>"
   ]
  },
  {
   "cell_type": "code",
   "execution_count": 62,
   "metadata": {
    "collapsed": false
   },
   "outputs": [],
   "source": [
    "# Método de range-kutta 3ª ordem\n",
    "def  calcular_rk4(f, x, y, h):\n",
    "        k1 = h*f(x, y)\n",
    "        k2 = h*f(x+(h/2), y+(k1/2))\n",
    "        k3 = h*f(x+(h/2), y+(k2/2))\n",
    "        k4 = h*f(x+h, y+k3)\n",
    "        return y + 1/6*(k1 + 2*k2 + 2*k3 + k4)\n",
    "\n",
    "def calcular_derivada_rk4(equacao, x0, y0, h, n):\n",
    "    #Setup inicial     \n",
    "    derivada = [0]*n\n",
    "    tempo = [0]*n\n",
    "    derivada[0] = y0\n",
    "    tempo[0] = x0\n",
    "    \n",
    "    aux = x0\n",
    "    for i in range(n-1):\n",
    "        aux += h\n",
    "        tempo[i+1] = aux \n",
    "        derivada[i+1] = calcular_rk4(equacao, tempo[i], derivada[i], h)\n",
    "        \n",
    "    \n",
    "    return derivada, tempo \n",
    "\n",
    "# calcular_derivada_rk4(equacao2, 1, 1, 0.1, 6)\n"
   ]
  },
  {
   "cell_type": "code",
   "execution_count": 87,
   "metadata": {
    "collapsed": false
   },
   "outputs": [],
   "source": [
    "# Método Adams-Bashforth de quarta ordem\n",
    "def  calcular_ab4(f, xn, yn, condicoes_anteriores, h):\n",
    "    \"\"\" \n",
    "    condicoes_anteriores ex:[[xn_-3, xn_-2, xn_-1], [yn_-3, yn_-2, yn_-1] ]\n",
    "    \"\"\"\n",
    "    x_anteriores = condicoes_anteriores[0]\n",
    "    y_anteriores = condicoes_anteriores[1]\n",
    "    k1 = f(xn,yn)\n",
    "    k2 = f(x_anteriores[2], y_anteriores[2])\n",
    "    k3 = f(x_anteriores[1], y_anteriores[1])\n",
    "    k4 = f(x_anteriores[0], y_anteriores[0])\n",
    "    return yn + (h/24)*(55*k1 - 59*k2 + 37*k3 - 9*k4)\n",
    "\n",
    "def calcular_derivada_ab4(equacao, x0, y0, h, n):\n",
    "    #Setup inicial \n",
    "    derivada = [0]*n\n",
    "    tempo = [0]*n\n",
    "    condicoes_iniciais = calcular_derivada_rk4(equacao, x0, y0, h, 4)\n",
    "    tempo[0:4] = condicoes_iniciais[1]\n",
    "    derivada[0:4] = condicoes_iniciais[0]\n",
    "    \n",
    "    condicoes_anteriores = [[],[]]\n",
    "    aux = tempo[3]\n",
    "    for i in range(3, n-1):\n",
    "        aux += h\n",
    "        tempo[i+1] = aux \n",
    "        condicoes_anteriores[0] = tempo[i-3:i]\n",
    "        condicoes_anteriores[1] = derivada[i-3:i]\n",
    "        derivada[i+1] = calcular_ab4(equacao, tempo[i], derivada[i], condicoes_anteriores, h)\n",
    "        \n",
    "    \n",
    "    return derivada, tempo \n",
    "\n"
   ]
  },
  {
   "cell_type": "markdown",
   "metadata": {},
   "source": [
    "<p style=\"text-align: justify; text-indent:4em\"> Esta célula tem como objetivo implementar funções que realizem alguns procedimentos matemáticos. Uma dessas funções implementadas é a de calcular precisão com base no erro relativo entre os elementos de um sinal original e de um aproximado, baseada na Equação 2.</p>\n",
    "<br>\n",
    "\n",
    "\\begin{align*}\n",
    "erro =   \\left |\\frac{Original - Aproximado}{Original} \\right |\n",
    "\\end{align*}\n",
    "<center style=\"margin-top:6px;\">Equação - Erro Reltivo</center>\n",
    "\n",
    "<br>\n",
    "\n",
    "<p style=\"text-align: justify; text-indent:4em\">Outra função implementada é a de calcular o desvio padrão, que assim como a função de calcular precisão, recebe dois conjuntos de valores, retornando o valor do desvio baseado na Equação 3.</p>\n",
    "\n",
    "<br>\n",
    "\n",
    "\\begin{align*}\n",
    "f(x) = \\frac{\\sqrt{ \\sum_{i=0}^N (x_{i}-\\bar x)^2 }} {n}\\ \n",
    "\\end{align*}\n",
    "<center style=\"margin-top:6px;\">Equação - Desvio Padrão</center>"
   ]
  },
  {
   "cell_type": "code",
   "execution_count": 88,
   "metadata": {
    "collapsed": true
   },
   "outputs": [],
   "source": [
    "def calcular_precisao(original, aproximado):\n",
    "    erro = 0.0\n",
    "    qtd_numeros = len(original)\n",
    "    for i in range(qtd_numeros):\n",
    "        if original[i] == 0.0:\n",
    "            original[i] = 0.00000000000000000000001\n",
    "        erro += abs( ((original[i] - aproximado[i]))/original[i] )/qtd_numeros\n",
    "\n",
    "    return (1.0-erro)*100\n",
    "\n",
    "def calcular_media(lista):\n",
    "    total = 0.0\n",
    "    for num in lista:\n",
    "        total += num \n",
    "        \n",
    "    return total/len(lista)\n",
    "\n",
    "def calcular_desvio_padrao(lista):\n",
    "    desvio = 0.0\n",
    "    n = len(lista)\n",
    "    media = calcular_media(lista)\n",
    "    for num in lista: \n",
    "        desvio += (abs(num - media)**2)/n\n",
    "    \n",
    "    return desvio**(1/2)"
   ]
  },
  {
   "cell_type": "markdown",
   "metadata": {},
   "source": [
    "<p style=\"text-align: justify; text-indent:4em\">As funções que seguem abaixo representam as equações diferenciais e sua soluções exatas utilizadas para análise dos algoritmos desenvolvidos. A função <span style=\"font-style:italic'\"> equacao3</span>, por exemplo, representa a seguinte equação diferencial:</p>\n",
    "\n",
    "\\begin{align*} \n",
    "    y^{'} = x^2 - e^{-2x}\n",
    "\\end{align*}\n",
    "\n",
    "<br>\n",
    "\n",
    "<p style=\"text-align: justify; text-indent:4em\"> Que possui como solução exata:</p>\n",
    "\\begin{align*} \n",
    "    y(x) = \\frac{x^3}{3} + 2e^{-2x}\n",
    "\\end{align*}"
   ]
  },
  {
   "cell_type": "code",
   "execution_count": 89,
   "metadata": {
    "collapsed": true
   },
   "outputs": [],
   "source": [
    "import math\n",
    "\n",
    "def equacao1(x, y):\n",
    "    #y' = 0.2xy \n",
    "    return 0.2 * x*y\n",
    "\n",
    "def equacao1_exata(x):\n",
    "    return 2.7182**(0.1*((x**2)-1))\n",
    "\n",
    "def equacao2(x, y):\n",
    "    #y' = 2xy \n",
    "    return 2*x*y\n",
    "\n",
    "def equacao2_exata(x):\n",
    "    return 2.7182**((x**2)-1)\n",
    "\n",
    "def equacao3(x, y):\n",
    "    return x**2 - (2*2.7182**(-2*x))\n",
    "\n",
    "def equacao3_exata(x):\n",
    "    return (x**3)/3 + 2.7182**(-2*x)"
   ]
  },
  {
   "cell_type": "markdown",
   "metadata": {},
   "source": [
    "<p style=\"text-align: justify; text-indent:4em\">Utilizando a implementação desses métodos de resolução numérica de equações diferencias, pode-se comparar suas respostas com as respostas da solução exata de cada função apresentada acima.</p>"
   ]
  },
  {
   "cell_type": "code",
   "execution_count": 100,
   "metadata": {
    "collapsed": false
   },
   "outputs": [
    {
     "data": {
      "image/png": "[encoded data removed]",
      "text/plain": [
       "<matplotlib.figure.Figure at 0x7fb02dbab278>"
      ]
     },
     "metadata": {},
     "output_type": "display_data"
    },
    {
     "name": "stdout",
     "output_type": "stream",
     "text": [
      "Euler:  94.69774869000904 %\n",
      "Euler Melhorado:  99.98029011298617 %\n",
      "RK3:  99.99845650895948 %\n",
      "RK4:  99.99845650895948 %\n",
      "AB4:  99.99983672352113 %\n"
     ]
    }
   ],
   "source": [
    "# main.py \n",
    "import matplotlib.pyplot as plt \n",
    "\n",
    "n = 100\n",
    "x0 = 0\n",
    "y0 = 1 \n",
    "h = 0.05\n",
    "f = equacao3\n",
    "\n",
    "# Solucao 'exata'\n",
    "exata = []\n",
    "for i in range(n): \n",
    "    x = x0 + h*i\n",
    "    y = equacao3_exata(x)\n",
    "    exata.append(y)\n",
    "    \n",
    "# Utilizacao dos metodos de resolucao de edoh    \n",
    "euler, t_euler = calcular_derivada_euler(f, x0, y0, h, n)\n",
    "euler_melhorado, t_euler_melhorado = calcular_derivada_euler_melhorado(f, x0, y0, h, n)\n",
    "rk3, t_rk3 = calcular_derivada_rk3(f, x0, y0, h, n)\n",
    "rk4, t_rk4 = calcular_derivada_rk4(f, x0, y0, h, n)\n",
    "ab4, t_ab4 = calcular_derivada_ab4(f, x0, y0, h, n)\n",
    "\n",
    "# Plotagem dos resultados\n",
    "plt.title('Análise dos resultados com step %f' %(h))\n",
    "plt.xlabel(\"x\")\n",
    "plt.ylabel(\"y = f(x)\")\n",
    "\n",
    "legenda_exata, = plt.plot(t_euler, exata, label=\"Original\")\n",
    "legenda_euler, = plt.plot(t_euler, euler, label=\"Euler\")\n",
    "legenda_euler_melhorado, = plt.plot(t_euler_melhorado, euler_melhorado,label=\"Euler Melhorado\")\n",
    "legenda_rk3, = plt.plot(t_rk3, rk3, label=\"RK3\")\n",
    "legenda_rk4, = plt.plot(t_rk4, rk4, label=\"RK4\")\n",
    "legenda_ab4, = plt.plot(t_ab4, ab4, label=\"AB4\")\n",
    "\n",
    "plt.legend(handles=[legenda_exata, legenda_euler, legenda_euler_melhorado, \n",
    "                    legenda_rk3, legenda_rk4, ])\n",
    "\n",
    "plt.show()\n",
    "\n",
    "# Analise de precisao \n",
    "print(\"Euler: \", calcular_precisao(exata, euler),\"%\")\n",
    "print(\"Euler Melhorado: \", calcular_precisao(exata, euler_melhorado),\"%\")\n",
    "print(\"RK3: \", calcular_precisao(exata, rk3),\"%\")\n",
    "print(\"RK4: \", calcular_precisao(exata, rk4),\"%\")\n",
    "print(\"AB4: \", calcular_precisao(exata, ab4),\"%\")"
   ]
  }
 ],
 "metadata": {
  "anaconda-cloud": {},
  "kernelspec": {
   "display_name": "Python [conda root]",
   "language": "python",
   "name": "conda-root-py"
  },
  "language_info": {
   "codemirror_mode": {
    "name": "ipython",
    "version": 3
   },
   "file_extension": ".py",
   "mimetype": "text/x-python",
   "name": "python",
   "nbconvert_exporter": "python",
   "pygments_lexer": "ipython3",
   "version": "3.5.2"
  }
 },
 "nbformat": 4,
 "nbformat_minor": 1
}
