{
 "cells": [
  {
   "cell_type": "code",
   "execution_count": 1,
   "metadata": {
    "collapsed": true
   },
   "outputs": [],
   "source": [
    "import math\n",
    "\n",
    "def seno(x):\n",
    "    return math.sin(math.radians(x))\n",
    "\n",
    "def cos(x):\n",
    "    return math.cos(math.radians(x))"
   ]
  },
  {
   "cell_type": "code",
   "execution_count": 2,
   "metadata": {
    "collapsed": true
   },
   "outputs": [],
   "source": [
    "def bissecao(f,a,b,erro_max, n):\n",
    "    i = 0\n",
    "    while i < n: \n",
    "        xm = (a+b)/2 \n",
    "        if abs(f(xm)) < erro_max: \n",
    "            return xm \n",
    "        else: \n",
    "            if f(a)*f(xm)<0:\n",
    "                b = xm \n",
    "            else: \n",
    "                a = xm  \n",
    "        i += 1\n",
    "    \n",
    "    return \"Nenhum Raiz encontrada\""
   ]
  },
  {
   "cell_type": "code",
   "execution_count": 3,
   "metadata": {
    "collapsed": false
   },
   "outputs": [
    {
     "data": {
      "image/png": "[encoded data removed]",
      "text/plain": [
       "<matplotlib.figure.Figure at 0x7f8351492d30>"
      ]
     },
     "metadata": {},
     "output_type": "display_data"
    }
   ],
   "source": [
    "import matplotlib.pyplot as plt \n",
    "\n",
    "def main(funcao, inicio, fim, precisao): \n",
    "    valores = []\n",
    "\n",
    "    aux = inicio\n",
    "    abcissa = []\n",
    "    while aux <= fim:\n",
    "        abcissa += [aux]\n",
    "        valores += [funcao(aux)] \n",
    "        aux += precisao\n",
    "\n",
    "    raiz = bissecao(funcao, inicio, fim, precisao, 500)\n",
    "\n",
    "    plt.plot(abcissa, valores)\n",
    "    plt.plot(raiz, 0, color=\"red\", marker='o')\n",
    "    plt.show()\n",
    "\n",
    "main(cos, -5, 355, 0.001)"
   ]
  },
  {
   "cell_type": "code",
   "execution_count": null,
   "metadata": {
    "collapsed": true
   },
   "outputs": [],
   "source": []
  },
  {
   "cell_type": "code",
   "execution_count": null,
   "metadata": {
    "collapsed": true
   },
   "outputs": [],
   "source": []
  }
 ],
 "metadata": {
  "anaconda-cloud": {},
  "kernelspec": {
   "display_name": "Python [conda root]",
   "language": "python",
   "name": "conda-root-py"
  },
  "language_info": {
   "codemirror_mode": {
    "name": "ipython",
    "version": 3
   },
   "file_extension": ".py",
   "mimetype": "text/x-python",
   "name": "python",
   "nbconvert_exporter": "python",
   "pygments_lexer": "ipython3",
   "version": "3.5.2"
  }
 },
 "nbformat": 4,
 "nbformat_minor": 1
}
